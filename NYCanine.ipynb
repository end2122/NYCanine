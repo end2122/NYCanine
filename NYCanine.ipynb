{
 "cells": [
  {
   "cell_type": "code",
   "execution_count": null,
   "metadata": {},
   "outputs": [],
   "source": [
    "path_response = r'C:\\Users\\endwy\\Documents\\Personal\\NYC Dog Data Project\\data\\Urban_Park_Ranger_Animal_Condition_Response.csv'\n",
    "path_runs = r'C:\\Users\\endwy\\Documents\\Personal\\NYC Dog Data Project\\data\\DPR_DogRuns_001.xml'"
   ]
  },
  {
   "cell_type": "markdown",
   "metadata": {},
   "source": [
    "### df_license cleaning"
   ]
  },
  {
   "cell_type": "code",
   "execution_count": null,
   "metadata": {},
   "outputs": [],
   "source": [
    "path_license = r'C:\\Users\\endwy\\Documents\\Personal\\NYC Dog Data Project\\data\\NYC_Dog_Licensing_Dataset.csv'\n",
    "\n",
    "import pandas as pd\n",
    "with open(path_license):\n",
    "    df_license = pd.read_csv(path_license, encoding='latin1')\n",
    "df_license = df_license.sample(n=10)\n",
    "# df_license.isna().sum()\n",
    "df_license.dropna(axis=0,how='any',inplace=True)"
   ]
  },
  {
   "cell_type": "code",
   "execution_count": null,
   "metadata": {},
   "outputs": [],
   "source": [
    "license_cols_to_str = ['ZipCode','CommunityDistrict','CensusTract2010','CityCouncilDistrict',\n",
    "                       'CongressionalDistrict','StateSenatorialDistrict']\n",
    "\n",
    "for i in license_cols_to_str:\n",
    "    df_license[i] = df_license[i].apply(lambda x: str(x).split('.')[0])"
   ]
  },
  {
   "cell_type": "code",
   "execution_count": null,
   "metadata": {},
   "outputs": [],
   "source": [
    "from datetime import datetime as dt\n",
    "df_license.rename(columns={'AnimalBirthMonth':'AnimalBirthDate'},inplace=True)\n",
    "\n",
    "df_license['AnimalBirthDate'] = df_license['AnimalBirthDate'].apply(lambda x: dt.strptime(x,'%m/%d/%Y %I:%M:%S %p'))\n",
    "df_license['LicenseIssuedDate'] = df_license['LicenseIssuedDate'].apply(lambda x: dt.strptime(x,'%m/%d/%Y'))\n",
    "df_license['LicenseExpiredDate'] = df_license['LicenseExpiredDate'].apply(lambda x: dt.strptime(x,'%m/%d/%Y'))\n",
    "df_license['AnimalAge']=0\n",
    "\n",
    "from dateutil import relativedelta as rd\n",
    "today = pd.to_datetime(dt.now().date())\n",
    "\n",
    "for i in range(len(df_license)):\n",
    "    birth = df_license['AnimalBirthDate'].iloc[i]\n",
    "    diff = rd.relativedelta(today, birth)\n",
    "    years_diff = round(((diff.years*365 + diff.months*30 + diff.days)/365),2)\n",
    "    df_license['AnimalAge'].iloc[i] = float(years_diff)\n",
    "\n",
    "import numpy as np\n",
    "df_license['LifeStatus']=''\n",
    "for i in range(len(df_license)):\n",
    "    if df_license['AnimalAge'].iloc[i]>20:\n",
    "        df_license['LifeStatus'].iloc[i] = 'Deceased'\n",
    "    elif df_license['AnimalAge'].iloc[i]<0:\n",
    "        df_license['LifeStatus'].iloc[i] = np.nan\n",
    "    else:\n",
    "        df_license['LifeStatus'].iloc[i] = 'Alive'\n",
    "        \n",
    "df_license.dropna(axis=0,how='any',inplace=True)"
   ]
  },
  {
   "cell_type": "markdown",
   "metadata": {},
   "source": [
    "### df_bite cleaning"
   ]
  },
  {
   "cell_type": "code",
   "execution_count": null,
   "metadata": {},
   "outputs": [],
   "source": [
    "path_bite = r'C:\\Users\\endwy\\Documents\\Personal\\NYC Dog Data Project\\data\\DOHMH_Dog_Bite_Data.csv'\n",
    "\n",
    "import pandas as pd\n",
    "with open(path_bite):\n",
    "    df_bite = pd.read_csv(path_bite, encoding='latin1')\n",
    "df_bite = df_bite.sample(n=1000)\n",
    "# df_bite.isna().sum()\n",
    "df_bite.dropna(axis=0,how='any',inplace=True)"
   ]
  },
  {
   "cell_type": "code",
   "execution_count": null,
   "metadata": {},
   "outputs": [],
   "source": [
    "from dateutil.parser import parse as dtparse\n",
    "for i in range(len(df_bite)):\n",
    "    strings = df_bite['DateOfBite'].iloc[i].split()\n",
    "    month = strings[0][:3]\n",
    "    day = strings[1]\n",
    "    year = strings[2]\n",
    "    new_date = year+' '+month+' '+day\n",
    "    df_bite['DateOfBite'].iloc[i] = dtparse(new_date)\n",
    "\n",
    "from datetime import datetime as dt\n",
    "df_bite['DateOfBite'] = pd.to_datetime(df_bite['DateOfBite'].apply(lambda x: dt.strftime(x,'%Y-%m-%d')))"
   ]
  },
  {
   "cell_type": "code",
   "execution_count": null,
   "metadata": {},
   "outputs": [],
   "source": [
    "def age_to_num(string):\n",
    "    import numpy as np\n",
    "    string = str(string)\n",
    "    \n",
    "    if len(string.strip())==2 and string.strip()[-1].lower()=='y':\n",
    "        return float(string.strip()[:-1])\n",
    "    \n",
    "    elif len(string.strip())==2 and string.strip()[-1].lower()=='m':\n",
    "        return float(string.strip()[:-1])/12\n",
    "    \n",
    "    elif string.strip().lower().split()[-1]=='mnths':\n",
    "        return float(string.strip().split()[0])/12\n",
    "    \n",
    "    elif string.strip().lower().split()[-1]=='yrs':\n",
    "        return float(string.strip().split()[0])\n",
    "    \n",
    "    elif string.strip().lower()[:-2]=='wk':\n",
    "        return float(string.strip().split('wk')[0])/52\n",
    "    \n",
    "    elif isinstance(string.strip(),float):\n",
    "        return float(string.strip())\n",
    "    \n",
    "    else:\n",
    "        return np.nan\n",
    "\n",
    "for i in range(len(df_bite)):\n",
    "    sliced = df_bite['Age'].iloc[i]\n",
    "    df_bite['Age'].iloc[i] = round(age_to_num(sliced),2)\n",
    "\n",
    "df_bite['Age'] = df_bite['Age'].apply(lambda x: pd.to_numeric(x))\n",
    "df_bite.dropna(axis=0,how='any',inplace=True)"
   ]
  }
 ],
 "metadata": {
  "kernelspec": {
   "display_name": "Python 3",
   "language": "python",
   "name": "python3"
  },
  "language_info": {
   "codemirror_mode": {
    "name": "ipython",
    "version": 3
   },
   "file_extension": ".py",
   "mimetype": "text/x-python",
   "name": "python",
   "nbconvert_exporter": "python",
   "pygments_lexer": "ipython3",
   "version": "3.7.0"
  }
 },
 "nbformat": 4,
 "nbformat_minor": 2
}
